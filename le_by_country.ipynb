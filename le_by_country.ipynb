{
 "cells": [
  {
   "cell_type": "markdown",
   "id": "e8e84756",
   "metadata": {},
   "source": [
    "# Life Expectancy By Country\n",
    "\n",
    "## Overview\n",
    "Over the course of the past few centuries, technological and medical advancements have helped increase the life expectancy of humans. However, as of now, the average life expectancy of humans varies depending on what country you live in.\n",
    "\n",
    "## Project Goals\n",
    "In this project, we will investigate a dataset containing information about the average life expectancy in 158 different countries. We will specifically look at how a country’s economic success might impact the life expectancy in that area.\n",
    "\n",
    "Some questions that are posed:\n",
    "- what is the distribution of life expectancy?\n",
    "- what are the quantiles of life expectancy?\n",
    "- IQR of life expectancy?\n",
    "\n",
    "## Actions\n",
    "\n",
    "- analyze data;\n",
    "- clean up the datasets;\n",
    "- visualize the data using histograms;\n",
    "- seek to answer the questions;\n",
    "- making conclusions based on the analysis.\n",
    "\n",
    "## Data\n",
    "\n",
    "Оne data set is submitted for the project.\n",
    "\n",
    "country_data - contains information about different countries, including their life expectancy and GDP.\n",
    "\n",
    "## Analysis\n",
    "\n",
    "The analysis contains basic techniques and calculations related to the most common characteristics of data sets. Exactly:\n",
    "- Distribution of life expectancy\n",
    "- Quantiles of life expectancy\n",
    "- IQR of life expectancy\n",
    "- Maximum and minimum values of life expectancy"
   ]
  },
  {
   "cell_type": "code",
   "execution_count": 23,
   "id": "68e2099f",
   "metadata": {},
   "outputs": [],
   "source": [
    "# importing necessary libraries\n",
    "import pandas as pd\n",
    "import numpy as np\n",
    "import matplotlib.pyplot as plt\n",
    "import seaborn as sns\n",
    "\n",
    "# setting options\n",
    "pd.set_option('display.max_columns', None)\n",
    "pd.set_option(\"display.float_format\", \"{:.2f}\".format)\n",
    "pd.set_option('max_colwidth', 0)"
   ]
  },
  {
   "cell_type": "code",
   "execution_count": 24,
   "id": "664385e4",
   "metadata": {},
   "outputs": [
    {
     "data": {
      "text/html": [
       "<div>\n",
       "<style scoped>\n",
       "    .dataframe tbody tr th:only-of-type {\n",
       "        vertical-align: middle;\n",
       "    }\n",
       "\n",
       "    .dataframe tbody tr th {\n",
       "        vertical-align: top;\n",
       "    }\n",
       "\n",
       "    .dataframe thead th {\n",
       "        text-align: right;\n",
       "    }\n",
       "</style>\n",
       "<table border=\"1\" class=\"dataframe\">\n",
       "  <thead>\n",
       "    <tr style=\"text-align: right;\">\n",
       "      <th></th>\n",
       "      <th>Country</th>\n",
       "      <th>Life Expectancy</th>\n",
       "      <th>GDP</th>\n",
       "    </tr>\n",
       "  </thead>\n",
       "  <tbody>\n",
       "    <tr>\n",
       "      <th>0</th>\n",
       "      <td>Afghanistan</td>\n",
       "      <td>58.19</td>\n",
       "      <td>340.02</td>\n",
       "    </tr>\n",
       "    <tr>\n",
       "      <th>1</th>\n",
       "      <td>Albania</td>\n",
       "      <td>75.16</td>\n",
       "      <td>2119.73</td>\n",
       "    </tr>\n",
       "    <tr>\n",
       "      <th>2</th>\n",
       "      <td>Algeria</td>\n",
       "      <td>73.62</td>\n",
       "      <td>2847.85</td>\n",
       "    </tr>\n",
       "    <tr>\n",
       "      <th>3</th>\n",
       "      <td>Angola</td>\n",
       "      <td>49.02</td>\n",
       "      <td>1975.14</td>\n",
       "    </tr>\n",
       "    <tr>\n",
       "      <th>4</th>\n",
       "      <td>Antigua and Barbuda</td>\n",
       "      <td>75.06</td>\n",
       "      <td>9759.31</td>\n",
       "    </tr>\n",
       "  </tbody>\n",
       "</table>\n",
       "</div>"
      ],
      "text/plain": [
       "               Country  Life Expectancy     GDP\n",
       "0  Afghanistan         58.19            340.02 \n",
       "1  Albania             75.16            2119.73\n",
       "2  Algeria             73.62            2847.85\n",
       "3  Angola              49.02            1975.14\n",
       "4  Antigua and Barbuda 75.06            9759.31"
      ]
     },
     "execution_count": 24,
     "metadata": {},
     "output_type": "execute_result"
    }
   ],
   "source": [
    "# load and view data\n",
    "df = pd.read_csv(\"country_data.csv\")\n",
    "df.head()"
   ]
  },
  {
   "cell_type": "markdown",
   "id": "32d27a07",
   "metadata": {},
   "source": [
    "There are 3 columns in the dataset: 'Country', 'Life Expectancy', and 'GDP'.\n",
    " - The `Country` column contains the names of the countries.\n",
    " - The `Life Expectancy` column contains the average life expectancy of the people in each country.\n",
    " - The `GDP` column contains the Gross Domestic Product (GDP) per capita for each country."
   ]
  },
  {
   "cell_type": "code",
   "execution_count": 25,
   "id": "590f014f",
   "metadata": {},
   "outputs": [],
   "source": [
    "# clean and rename columns\n",
    "df.columns = df.columns.str.lower()\n",
    "df.rename(columns={'life expectancy': 'life_expectancy'}, inplace=True)"
   ]
  },
  {
   "cell_type": "code",
   "execution_count": 26,
   "id": "af2bcc33",
   "metadata": {},
   "outputs": [
    {
     "data": {
      "text/html": [
       "<div>\n",
       "<style scoped>\n",
       "    .dataframe tbody tr th:only-of-type {\n",
       "        vertical-align: middle;\n",
       "    }\n",
       "\n",
       "    .dataframe tbody tr th {\n",
       "        vertical-align: top;\n",
       "    }\n",
       "\n",
       "    .dataframe thead th {\n",
       "        text-align: right;\n",
       "    }\n",
       "</style>\n",
       "<table border=\"1\" class=\"dataframe\">\n",
       "  <thead>\n",
       "    <tr style=\"text-align: right;\">\n",
       "      <th></th>\n",
       "      <th>country</th>\n",
       "      <th>life_expectancy</th>\n",
       "      <th>gdp</th>\n",
       "    </tr>\n",
       "  </thead>\n",
       "  <tbody>\n",
       "  </tbody>\n",
       "</table>\n",
       "</div>"
      ],
      "text/plain": [
       "Empty DataFrame\n",
       "Columns: [country, life_expectancy, gdp]\n",
       "Index: []"
      ]
     },
     "execution_count": 26,
     "metadata": {},
     "output_type": "execute_result"
    }
   ],
   "source": [
    "# looking for duplicates\n",
    "df[df.duplicated(subset=['country'])]"
   ]
  },
  {
   "cell_type": "code",
   "execution_count": 27,
   "id": "374f06c3",
   "metadata": {},
   "outputs": [
    {
     "data": {
      "text/plain": [
       "0   58.19\n",
       "1   75.16\n",
       "2   73.62\n",
       "3   49.02\n",
       "4   75.06\n",
       "Name: life_expectancy, dtype: float64"
      ]
     },
     "execution_count": 27,
     "metadata": {},
     "output_type": "execute_result"
    }
   ],
   "source": [
    "# create a life expectancy series\n",
    "life_expectancy = df['life_expectancy']\n",
    "life_expectancy.head()"
   ]
  },
  {
   "cell_type": "markdown",
   "id": "00a4a1b3",
   "metadata": {},
   "source": [
    "## Find the Quantiles\n",
    "\n",
    "Use NumPy functions to find the quartiles of `life_expectancy`."
   ]
  },
  {
   "cell_type": "code",
   "execution_count": 29,
   "id": "ea1a5d8d",
   "metadata": {},
   "outputs": [
    {
     "data": {
      "text/plain": [
       "[62.325, 72.525, 75.44218749999999]"
      ]
     },
     "execution_count": 29,
     "metadata": {},
     "output_type": "execute_result"
    }
   ],
   "source": [
    "# find the quartiles\n",
    "\n",
    "life_expectancy_quartiles = np.quantile(life_expectancy, [0.25, 0.5, 0.75]).tolist()\n",
    "life_expectancy_quartiles"
   ]
  },
  {
   "cell_type": "markdown",
   "id": "981b4ae6",
   "metadata": {},
   "source": [
    "By looking at those three values we can get a sense of the spread of the data. For example, it seems like some of the data is fairly close together — a quarter of the data is between 72.5 years and 75.4 years."
   ]
  },
  {
   "cell_type": "code",
   "execution_count": 33,
   "id": "e2fbc263",
   "metadata": {},
   "outputs": [
    {
     "data": {
      "image/png": "[encoded data removed]",
      "text/plain": [
       "<Figure size 1000x600 with 1 Axes>"
      ]
     },
     "metadata": {},
     "output_type": "display_data"
    }
   ],
   "source": [
    "# making a histogram\n",
    "plt.figure(figsize=(10, 6))\n",
    "sns.histplot(life_expectancy, bins=30, color='#64BBC9')\n",
    "plt.title('Life Expectancy Distribution')\n",
    "plt.xlabel('Life Expectancy (years)')\n",
    "plt.ylabel('Frequency')\n",
    "plt.show()"
   ]
  }
 ],
 "metadata": {
  "kernelspec": {
   "display_name": "base",
   "language": "python",
   "name": "python3"
  },
  "language_info": {
   "codemirror_mode": {
    "name": "ipython",
    "version": 3
   },
   "file_extension": ".py",
   "mimetype": "text/x-python",
   "name": "python",
   "nbconvert_exporter": "python",
   "pygments_lexer": "ipython3",
   "version": "3.11.11"
  }
 },
 "nbformat": 4,
 "nbformat_minor": 5
}
