{
 "cells": [
  {
   "cell_type": "markdown",
   "id": "e8e84756",
   "metadata": {},
   "source": [
    "# Life Expectancy By Country\n",
    "\n",
    "## Overview\n",
    "Over the course of the past few centuries, technological and medical advancements have helped increase the life expectancy of humans. However, as of now, the average life expectancy of humans varies depending on what country you live in.\n",
    "\n",
    "## Project Goals\n",
    "In this project, we will investigate a dataset containing information about the average life expectancy in 158 different countries. We will specifically look at how a country’s economic success might impact the life expectancy in that area.\n",
    "\n",
    "Some questions that are posed:\n",
    "- what is the distribution of life expectancy?\n",
    "- what are the quantiles of life expectancy?\n",
    "- IQR of life expectancy?\n",
    "\n",
    "## Actions\n",
    "\n",
    "- analyze data;\n",
    "- clean up the datasets;\n",
    "- visualize the data using histograms;\n",
    "- seek to answer the questions;\n",
    "- making conclusions based on the analysis.\n",
    "\n",
    "## Data\n",
    "\n",
    "Оne data set is submitted for the project.\n",
    "\n",
    "country_data - contains information about different countries, including their life expectancy and GDP.\n",
    "\n",
    "## Analysis\n",
    "\n",
    "The analysis contains basic techniques and calculations related to the most common characteristics of data sets. Exactly:\n",
    "- Distribution of life expectancy\n",
    "- Quantiles of life expectancy\n",
    "- IQR of life expectancy\n",
    "- Maximum and minimum values of life expectancy"
   ]
  }
 ],
 "metadata": {
  "language_info": {
   "name": "python"
  }
 },
 "nbformat": 4,
 "nbformat_minor": 5
}
